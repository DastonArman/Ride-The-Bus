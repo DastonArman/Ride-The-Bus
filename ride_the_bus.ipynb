{
 "cells": [
  {
   "cell_type": "markdown",
   "metadata": {},
   "source": [
    "# Import Libraries"
   ]
  },
  {
   "cell_type": "code",
   "execution_count": 81,
   "metadata": {},
   "outputs": [],
   "source": [
    "import random\n",
    "import pandas as pd\n",
    "from pandas import DataFrame, Series\n",
    "import numpy as np\n",
    "import matplotlib.pyplot as plt\n",
    "import seaborn as sns"
   ]
  },
  {
   "cell_type": "markdown",
   "metadata": {},
   "source": [
    "# Phase 1: Getting Cards"
   ]
  },
  {
   "cell_type": "code",
   "execution_count": 115,
   "metadata": {},
   "outputs": [],
   "source": [
    "#Define function to take the list of current cards in the deck, pick a random card, and remove it\n",
    "#Returns the chosen card and the now-smaller deck\n",
    "def choose_card(current_deck):\n",
    "    if len(current_deck) == 0:\n",
    "        current_deck = list(range(1, 14, 1)) * 4\n",
    "    card = random.choice(current_deck)\n",
    "    current_deck.remove(card)\n",
    "    return card, current_deck"
   ]
  },
  {
   "cell_type": "code",
   "execution_count": 127,
   "metadata": {},
   "outputs": [],
   "source": [
    "#function to simulate a single getting cards phase\n",
    "def getting_cards(current_deck = list(range(1, 14, 1)) * 4):\n",
    "    #initialize a deck and counting variables\n",
    "    drinks_taken = 0\n",
    "    drinks_given = 0\n",
    "    cards_in_hand = []\n",
    "\n",
    "    #draw the first card\n",
    "    first_card, current_deck = choose_card(current_deck)\n",
    "    cards_in_hand.append(first_card)\n",
    "\n",
    "    #random choice for winning first card\n",
    "    if random.choice([1, 0]) == 1:\n",
    "        drinks_taken += 1\n",
    "    else:\n",
    "        drinks_given += 1\n",
    "\n",
    "    #assign choice for second round\n",
    "    if first_card > 7:\n",
    "        second_choice = 'low'\n",
    "    elif first_card < 7:\n",
    "        second_choice = 'high'\n",
    "    else:\n",
    "        second_choice = random.choice(['high', 'low'])\n",
    "\n",
    "    #draw the second card\n",
    "    second_card, current_deck = choose_card(current_deck)\n",
    "    cards_in_hand.append(second_card)\n",
    "\n",
    "    #check to see if the first two cards are equal. If so, increase stakes.\n",
    "    second_card_drink_stake = 1\n",
    "    while second_card == first_card:\n",
    "        second_card_drink_stake += 1\n",
    "        second_card, current_deck = choose_card(current_deck)\n",
    "        cards_in_hand.append(second_card)\n",
    "\n",
    "    #determine if second choice was correct\n",
    "    if (second_card > first_card) & (second_choice == 'high'):\n",
    "        drinks_given += second_card_drink_stake\n",
    "    elif (second_card < first_card) & (second_choice == 'low'):\n",
    "        drinks_given += second_card_drink_stake\n",
    "    else:\n",
    "        drinks_taken += second_card_drink_stake\n",
    "\n",
    "    #assign choice for third round\n",
    "    if abs(first_card - second_card) - 1 < 6:\n",
    "        third_choice = 'outside'\n",
    "    else:\n",
    "        third_choice = 'inside'\n",
    "\n",
    "    #draw the third card\n",
    "    third_card, current_deck = choose_card(current_deck)\n",
    "    cards_in_hand.append(third_card)\n",
    "\n",
    "    #check to see if the third card equals either of the first two cards. If so, increase stakes.\n",
    "    third_card_drink_stake = 1\n",
    "    while (third_card == first_card) or (third_card == second_card):\n",
    "        third_card_drink_stake += 1\n",
    "        third_card, current_deck = choose_card(current_deck)\n",
    "        cards_in_hand.append(third_card)\n",
    "\n",
    "    #determine if third choice was correct\n",
    "    if (third_card < max(first_card, second_card)) and (third_card > min(first_card, second_card)) and (third_choice == 'inside'):\n",
    "        drinks_given += third_card_drink_stake\n",
    "    elif ((third_card > max(first_card, second_card)) or (third_card < min(first_card, second_card))) and (third_choice == 'outside'):\n",
    "        drinks_given += third_card_drink_stake\n",
    "    else:\n",
    "        drinks_taken += third_card_drink_stake\n",
    "\n",
    "    #draw the fourth card\n",
    "    fourth_card, current_deck = choose_card(current_deck)\n",
    "    cards_in_hand.append(fourth_card)\n",
    "\n",
    "    #random choice for winning fourth card\n",
    "    if random.choice([1, 0, 0, 0]) == 1:\n",
    "        drinks_given += 1\n",
    "    else:\n",
    "        drinks_taken += 1\n",
    "    \n",
    "    #return list of drinks info, list of cards in hand, and current deck\n",
    "    return [drinks_taken, drinks_given], cards_in_hand, current_deck"
   ]
  },
  {
   "cell_type": "code",
   "execution_count": 117,
   "metadata": {},
   "outputs": [],
   "source": [
    "#run 1m simulations of getting cards\n",
    "getting_cards_results = []\n",
    "for i in range(1000000):\n",
    "    drinks, cards_in_hand, current_deck = getting_cards()\n",
    "    getting_cards_results.append(drinks)"
   ]
  },
  {
   "cell_type": "code",
   "execution_count": 118,
   "metadata": {},
   "outputs": [],
   "source": [
    "#turn simulation results into pivot table\n",
    "getting_cards_df = DataFrame(getting_cards_results, columns = ['taken', 'given']).reset_index()\n",
    "getting_cards_pivot = (getting_cards_df.pivot_table(values = 'index', index = 'given', \n",
    "                                                   columns = 'taken', aggfunc = 'count', fill_value = 0)/1000000).round(2)"
   ]
  },
  {
   "cell_type": "code",
   "execution_count": 176,
   "metadata": {},
   "outputs": [
    {
     "name": "stdout",
     "output_type": "stream",
     "text": [
      "Average Drinks Taken while getting cards: 1.751819\n",
      "Average Drinks Given while getting cards: 2.441685\n"
     ]
    }
   ],
   "source": [
    "#print relevant information\n",
    "print('Average Drinks Taken while getting cards:', getting_cards_df['taken'].mean())\n",
    "print('Average Drinks Given while getting cards:', getting_cards_df['given'].mean())"
   ]
  },
  {
   "cell_type": "code",
   "execution_count": 120,
   "metadata": {},
   "outputs": [
    {
     "data": {
      "image/png": "[encoded data removed]",
      "text/plain": [
       "<Figure size 432x288 with 1 Axes>"
      ]
     },
     "metadata": {},
     "output_type": "display_data"
    }
   ],
   "source": [
    "#make heatmap of pivot table\n",
    "ax = sns.heatmap(getting_cards_pivot.loc[:5,:4], cmap=\"YlGnBu\", annot = True, cbar = False)\n",
    "ax.invert_yaxis()\n",
    "\n",
    "plt.xlabel('Drinks Taken', fontweight = 'bold')\n",
    "plt.ylabel(\"Drinks Given\", fontweight = 'bold')\n",
    "plt.title(\"Heatmap of Drinks Given or Taken When Getting Cards\", fontweight = 'bold')\n",
    "\n",
    "plt.savefig('ride_the_bus/getting_cards_heatmap.png', dpi = 500, bbox_inches = 'tight')"
   ]
  },
  {
   "cell_type": "markdown",
   "metadata": {},
   "source": [
    "# Phase 2: The Pyramid"
   ]
  },
  {
   "cell_type": "code",
   "execution_count": 155,
   "metadata": {},
   "outputs": [],
   "source": [
    "#function to simulate a single pyramid phase\n",
    "def pyramid(players): \n",
    "    #initialize some variables\n",
    "    current_deck = list(range(1, 14, 1)) * 4\n",
    "    cards_in_hand_list = []\n",
    "    drinks_given_list = [0] * players\n",
    "\n",
    "    #give out cards to players\n",
    "    for i in range(players):\n",
    "        drinks, cards_in_hand, current_deck = getting_cards(current_deck)\n",
    "        cards_in_hand_list.append(cards_in_hand)\n",
    "\n",
    "    #iterate over each pyramid step\n",
    "    for i in range(10):\n",
    "        pyramid_card, current_deck = choose_card(current_deck)\n",
    "\n",
    "        #calculate stake of pyramid level\n",
    "        if i <= 3:\n",
    "            stake = 1\n",
    "        elif i <= 6:\n",
    "            stake = 2\n",
    "        elif i <= 8:\n",
    "            stake = 3\n",
    "        else:\n",
    "            stake = 4\n",
    "\n",
    "        #iterate over each players hand, calculate drinks given, and remove cards\n",
    "        for j in range(players):\n",
    "            if pyramid_card in cards_in_hand_list[j]:        \n",
    "                drinks_given_list[j] = drinks_given_list[j] + (cards_in_hand_list[j].count(pyramid_card) * stake)\n",
    "                cards_in_hand_list[j] = [x for x in cards_in_hand_list[j] if x != pyramid_card]\n",
    "\n",
    "    #check if player 1 has to ride the bus\n",
    "    if len(cards_in_hand_list[0]) == max([len(x) for x in cards_in_hand_list]):\n",
    "        riding_bus = 1\n",
    "    else:\n",
    "        riding_bus = 0\n",
    "\n",
    "    #return relevant info for player 1\n",
    "    return [drinks_given_list[0], players, riding_bus]"
   ]
  },
  {
   "cell_type": "code",
   "execution_count": 168,
   "metadata": {},
   "outputs": [],
   "source": [
    "#run simulations of the pyramid for varied numbers of players\n",
    "pyramid_results = []\n",
    "for i in range(2,13):\n",
    "    for j in range(10000):\n",
    "        pyramid_results.append(pyramid(i))"
   ]
  },
  {
   "cell_type": "code",
   "execution_count": 170,
   "metadata": {},
   "outputs": [],
   "source": [
    "#create dataframe of pyramid results\n",
    "pyramid_df = DataFrame(pyramid_results, columns = ['given', 'players', 'riding_bus'])"
   ]
  },
  {
   "cell_type": "code",
   "execution_count": 175,
   "metadata": {},
   "outputs": [
    {
     "name": "stdout",
     "output_type": "stream",
     "text": [
      "Average drinks given during pyramid: 3.922727272727273\n"
     ]
    }
   ],
   "source": [
    "#print relevant info\n",
    "print('Average drinks given during pyramid:', pyramid_df['given'].mean())"
   ]
  },
  {
   "cell_type": "code",
   "execution_count": 209,
   "metadata": {},
   "outputs": [
    {
     "data": {
      "image/png": "[encoded data removed]",
      "text/plain": [
       "<Figure size 432x288 with 1 Axes>"
      ]
     },
     "metadata": {},
     "output_type": "display_data"
    }
   ],
   "source": [
    "#plot distribution of drinks given while playing the pyramid\n",
    "pyramid_df['given'].value_counts(normalize = True).sort_index().plot(kind = 'bar', color = 'cadetblue')\n",
    "\n",
    "plt.xticks(rotation = 0)\n",
    "plt.yticks([x/100 for x in range(0, 18, 2)], [str(x) + '%' for x in range(0, 18, 2)])\n",
    "\n",
    "plt.xlim(-0.5, 14.5)\n",
    "\n",
    "plt.grid(True)\n",
    "\n",
    "plt.xlabel('Drinks Given', fontweight = 'bold')\n",
    "plt.ylabel(\"Probability (%)\", fontweight = 'bold')\n",
    "plt.title(\"Probability of Drinks Given During Pyramid Phase\", fontweight = 'bold')\n",
    "\n",
    "plt.savefig('ride_the_bus/pyramid_results.png', dpi = 500, bbox_inches = 'tight')"
   ]
  },
  {
   "cell_type": "code",
   "execution_count": 207,
   "metadata": {},
   "outputs": [
    {
     "data": {
      "image/png": "[encoded data removed]",
      "text/plain": [
       "<Figure size 432x288 with 1 Axes>"
      ]
     },
     "metadata": {},
     "output_type": "display_data"
    }
   ],
   "source": [
    "#plot probability of riding the bus by number of players\n",
    "pyramid_df.groupby('players').mean()['riding_bus'].plot(color = 'indianred')\n",
    "\n",
    "plt.yticks([x/100 for x in range(0, 101, 10)], [str(x) + '%' for x in range(0, 101, 10)])\n",
    "plt.xticks(range(2,13))\n",
    "\n",
    "plt.ylim(0, 1)\n",
    "\n",
    "plt.grid(True)\n",
    "\n",
    "plt.xlabel('Number of Players', fontweight = 'bold')\n",
    "plt.ylabel(\"Probability (%)\", fontweight = 'bold')\n",
    "plt.title(\"Probability of Riding The Bus by Number of Players\", fontweight = 'bold')\n",
    "\n",
    "plt.savefig('ride_the_bus/riding_bus_odds.png', dpi = 500, bbox_inches = 'tight')"
   ]
  },
  {
   "cell_type": "markdown",
   "metadata": {},
   "source": [
    "# Phase 3: Riding The Bus"
   ]
  },
  {
   "cell_type": "code",
   "execution_count": 6,
   "metadata": {},
   "outputs": [],
   "source": [
    "#function to shuffle the deck while taking into account currently placed bus cards\n",
    "def shuffle_deck_bus(bus_stop_dict):\n",
    "    new_deck = list(range(1, 14, 1)) * 4\n",
    "    for j in bus_stop_dict.values():\n",
    "        new_deck.remove(j)\n",
    "    return new_deck"
   ]
  },
  {
   "cell_type": "code",
   "execution_count": 7,
   "metadata": {},
   "outputs": [],
   "source": [
    "#function to initialize bus cards in order\n",
    "def make_bus_dict(current_deck):\n",
    "    bus_stop_dict = {}\n",
    "    for i in range(1, 8):\n",
    "        card, current_deck = choose_card(current_deck)\n",
    "        bus_stop_dict[i] = card\n",
    "    return bus_stop_dict, current_deck"
   ]
  },
  {
   "cell_type": "code",
   "execution_count": 8,
   "metadata": {},
   "outputs": [],
   "source": [
    "#function to play a single bus card while riding the bus\n",
    "def play_single_bus_stop(current_deck, bus_stop_dict, current_bus_stop, drinks_taken):\n",
    "    #assign choice for bus card\n",
    "    if bus_stop_dict[current_bus_stop] > 7:\n",
    "        choice = 'low'\n",
    "    elif bus_stop_dict[current_bus_stop] < 7:\n",
    "        choice = 'high'\n",
    "    else:\n",
    "        choice = random.choice(['high', 'low'])\n",
    "    \n",
    "    #reshuffle deck if empty\n",
    "    if len(current_deck) == 0:\n",
    "        current_deck = shuffle_deck_bus(bus_stop_dict)\n",
    "    \n",
    "    #reveal a card\n",
    "    placed_card, current_deck = choose_card(current_deck)\n",
    "    \n",
    "    #if cards are equal, raise drink stakes and reveal another card\n",
    "    drink_stake = 1\n",
    "    while placed_card == bus_stop_dict[current_bus_stop]:\n",
    "        drink_stake += 1\n",
    "\n",
    "        if len(current_deck) == 0:\n",
    "            current_deck = shuffle_deck_bus(bus_stop_dict)\n",
    "\n",
    "        placed_card, current_deck = choose_card(current_deck)\n",
    "    \n",
    "    #determine if choice was correct, change the bus stop, and add drinks if needed\n",
    "    if (placed_card > bus_stop_dict[current_bus_stop]) & (choice == 'high'):\n",
    "        next_bus_stop = current_bus_stop + 1\n",
    "    elif (placed_card < bus_stop_dict[current_bus_stop]) & (choice == 'low'):\n",
    "        next_bus_stop = current_bus_stop + 1\n",
    "    else:\n",
    "        next_bus_stop = 1\n",
    "        drinks_taken += drink_stake\n",
    "\n",
    "    #change bus stop card to revealed card\n",
    "    bus_stop_dict[current_bus_stop] = placed_card\n",
    "    \n",
    "    #return relevant info\n",
    "    return current_deck, bus_stop_dict, next_bus_stop, drinks_taken"
   ]
  },
  {
   "cell_type": "code",
   "execution_count": 9,
   "metadata": {},
   "outputs": [],
   "source": [
    "#function to simulate a single riding the bus phase\n",
    "def ride_the_bus():\n",
    "    #initialize some variables\n",
    "    current_deck = list(range(1, 14, 1)) * 4\n",
    "    bus_stop_dict, current_deck = make_bus_dict(current_deck)\n",
    "    current_bus_stop = 1\n",
    "    drinks_taken = 0\n",
    "\n",
    "    #iterate over bus stops using play_single_bus_stop until all bus stops are played\n",
    "    while current_bus_stop != 8:\n",
    "        current_deck, bus_stop_dict, current_bus_stop, drinks_taken = play_single_bus_stop(\n",
    "                current_deck, bus_stop_dict, current_bus_stop, drinks_taken)\n",
    "        \n",
    "    #return number of drinks taken\n",
    "    return drinks_taken"
   ]
  },
  {
   "cell_type": "code",
   "execution_count": 189,
   "metadata": {},
   "outputs": [],
   "source": [
    "#simualte bus phase many times\n",
    "bus_results = []\n",
    "for i in range(1000000):\n",
    "    bus_results.append(ride_the_bus())"
   ]
  },
  {
   "cell_type": "code",
   "execution_count": 190,
   "metadata": {},
   "outputs": [
    {
     "name": "stdout",
     "output_type": "stream",
     "text": [
      "Average Drinks Taken while riding the bus: 4.92\n"
     ]
    }
   ],
   "source": [
    "#print relevant info\n",
    "print(\"Average Drinks Taken while riding the bus:\", np.mean(bus_results).round(2))"
   ]
  },
  {
   "cell_type": "code",
   "execution_count": 191,
   "metadata": {},
   "outputs": [
    {
     "data": {
      "image/png": "[encoded data removed]",
      "text/plain": [
       "<Figure size 432x288 with 1 Axes>"
      ]
     },
     "metadata": {},
     "output_type": "display_data"
    }
   ],
   "source": [
    "#plot distribution of drinks taken while riding the bus\n",
    "Series(bus_results).value_counts(normalize = True).plot(kind = 'bar', color = 'cadetblue')\n",
    "\n",
    "plt.xticks(range(0, 32, 2), range(0, 32, 2), rotation = 0)\n",
    "plt.yticks([x/100 for x in range(0, 18, 2)], [str(x) + '%' for x in range(0, 18, 2)])\n",
    "\n",
    "plt.xlim(-0.5, 30.5)\n",
    "\n",
    "plt.grid(True)\n",
    "\n",
    "plt.xlabel('Drinks Taken', fontweight = 'bold')\n",
    "plt.ylabel(\"Probability (%)\", fontweight = 'bold')\n",
    "plt.title(\"Probability of Drinks Taken While Riding The Bus\", fontweight = 'bold')\n",
    "\n",
    "plt.savefig('ride_the_bus/ride_the_bus_density.png', dpi = 500, bbox_inches = 'tight')"
   ]
  },
  {
   "cell_type": "code",
   "execution_count": 192,
   "metadata": {},
   "outputs": [],
   "source": [
    "#create reverse cumulative distribution in dictionary\n",
    "results_cumulative_dict = {}\n",
    "for i in range(0, 41, 1):\n",
    "    count = 0\n",
    "    for j in bus_results:\n",
    "        if j >= i:\n",
    "            count += 1\n",
    "    results_cumulative_dict[i] = count / len(bus_results)"
   ]
  },
  {
   "cell_type": "code",
   "execution_count": 193,
   "metadata": {},
   "outputs": [
    {
     "data": {
      "image/png": "[encoded data removed]",
      "text/plain": [
       "<Figure size 432x288 with 1 Axes>"
      ]
     },
     "metadata": {},
     "output_type": "display_data"
    }
   ],
   "source": [
    "#plot reverse cumulative distribution of drinks taken\n",
    "Series(results_cumulative_dict).plot(kind = 'bar', color = 'coral')\n",
    "\n",
    "plt.xticks(range(0, 32, 2), range(0, 32, 2), rotation = 0)\n",
    "plt.yticks([x/100 for x in range(0, 101, 10)], [str(x) + '%' for x in range(0, 101, 10)])\n",
    "\n",
    "plt.xlim(-0.5, 30.5)\n",
    "\n",
    "plt.grid(True)\n",
    "\n",
    "plt.xlabel('Drinks Taken', fontweight = 'bold')\n",
    "plt.ylabel(\"Cumulative Probability (%)\", fontweight = 'bold')\n",
    "plt.title(\"Cumulative Probability of Drinks Taken While Riding The Bus\", fontweight = 'bold')\n",
    "\n",
    "plt.savefig('ride_the_bus/ride_the_bus_cumulative.png', dpi = 500, bbox_inches = 'tight')"
   ]
  }
 ],
 "metadata": {
  "kernelspec": {
   "display_name": "Python 3",
   "language": "python",
   "name": "python3"
  },
  "language_info": {
   "codemirror_mode": {
    "name": "ipython",
    "version": 3
   },
   "file_extension": ".py",
   "mimetype": "text/x-python",
   "name": "python",
   "nbconvert_exporter": "python",
   "pygments_lexer": "ipython3",
   "version": "3.6.5"
  }
 },
 "nbformat": 4,
 "nbformat_minor": 2
}
